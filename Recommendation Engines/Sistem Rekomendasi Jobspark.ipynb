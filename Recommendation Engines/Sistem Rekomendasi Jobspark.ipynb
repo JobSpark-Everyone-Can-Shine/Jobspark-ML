{
  "nbformat": 4,
  "nbformat_minor": 0,
  "metadata": {
    "colab": {
      "provenance": []
    },
    "kernelspec": {
      "name": "python3",
      "display_name": "Python 3"
    },
    "language_info": {
      "name": "python"
    }
  },
  "cells": [
    {
      "cell_type": "code",
      "execution_count": 1,
      "metadata": {
        "id": "ZhaOXZ84nxHS"
      },
      "outputs": [],
      "source": [
        "import pandas as pd\n",
        "import numpy as np\n",
        "import tensorflow as tf\n",
        "from sklearn.preprocessing import MultiLabelBinarizer, LabelEncoder\n",
        "from sklearn.model_selection import train_test_split\n",
        "from sklearn.metrics.pairwise import cosine_similarity"
      ]
    },
    {
      "cell_type": "code",
      "source": [
        "dataset = pd.read_csv('dataset_loker_downsynd.csv')\n",
        "\n",
        "print(\"Dataset Overview:\")\n",
        "print(dataset.head())"
      ],
      "metadata": {
        "id": "yh8nxgcOn26f",
        "colab": {
          "base_uri": "https://localhost:8080/"
        },
        "outputId": "8089a02d-7892-491d-d259-8297b40b1d1b"
      },
      "execution_count": 2,
      "outputs": [
        {
          "output_type": "stream",
          "name": "stdout",
          "text": [
            "Dataset Overview:\n",
            "      Nama Pekerjaan                Perusahaan      Lokasi          Gaji  \\\n",
            "0      Asisten Dapur         PT Roti Nusantara     Jakarta  Rp 2.500.000   \n",
            "1      Petugas Kebun        Taman Kota Mandiri     Bandung  Rp 2.000.000   \n",
            "2  Operator Komputer           PT Digital Jaya    Surabaya  Rp 3.000.000   \n",
            "3  Pembersih Ruangan       PT Bersih Sejahtera  Yogyakarta  Rp 2.200.000   \n",
            "4  Fotografer Pemula  Studio Kreatif Nusantara    Denpasar  Rp 3.500.000   \n",
            "\n",
            "                                 Deskripsi Pekerjaan       Kategori Minat  \\\n",
            "0  Membantu koki menyiapkan bahan masakan dan men...              Memasak   \n",
            "1  Merawat tanaman, menyiram bunga, dan menjaga k...             Berkebun   \n",
            "2  Mengoperasikan komputer untuk tugas-tugas sede...      Teknologi dasar   \n",
            "3  Membersihkan ruangan kerja dan menjaga kebersi...  Lingkungan dan alam   \n",
            "4  Mengambil foto sederhana dan membantu pengedit...      Fotografi, Seni   \n",
            "\n",
            "                                Kemampuan Dibutuhkan  \\\n",
            "0  Mengikuti langkah-langkah sederhana, Kerja tim...   \n",
            "1  Menggunakan alat sederhana, Ketelitian, Koordi...   \n",
            "2               Mengetik, Membaca dasar, Kreativitas   \n",
            "3           Menjaga kebersihan, Ketelitian, Disiplin   \n",
            "4  Kreativitas, Mendengarkan instruksi, Pemecahan...   \n",
            "\n",
            "                                   Kondisi Kesehatan             Posisi  \\\n",
            "0  Tidak alergi bahan kimia tertentu, Membutuhkan...              Staff   \n",
            "1                          Tidak cocok di suhu panas              Staff   \n",
            "2                Membutuhkan lingkungan kerja tenang  Operator Komputer   \n",
            "3  Tidak boleh mengangkat beban berat, Tidak aler...              Staff   \n",
            "4  Membutuhkan lingkungan kerja tenang, Tidak sen...              Staff   \n",
            "\n",
            "       Kualifikasi Minimal Pengalaman Tipe Pekerjaan  \n",
            "0  Lulusan SMA/SMK          0-1 tahun      Full-time  \n",
            "1  Lulusan SMP/SMK          0-1 tahun      Part-time  \n",
            "2  Lulusan SMA/SMK          0-2 tahun      Full-time  \n",
            "3  Lulusan SMP/SMK          0-1 tahun      Full-time  \n",
            "4  Lulusan SMA/SMK            1 tahun      Full-time  \n"
          ]
        }
      ]
    },
    {
      "cell_type": "code",
      "source": [
        "dataset['Kategori Minat'] = dataset['Kategori Minat'].fillna('')\n",
        "\n",
        "dataset['Kategori Minat'] = dataset['Kategori Minat'].str.split(', ')"
      ],
      "metadata": {
        "id": "oj3Rreq2pnZp"
      },
      "execution_count": null,
      "outputs": []
    },
    {
      "cell_type": "code",
      "source": [
        "minat_encoder = MultiLabelBinarizer()\n",
        "minat_encoded = minat_encoder.fit_transform(dataset['Kategori Minat'])"
      ],
      "metadata": {
        "id": "L1I04ZI3ppe5"
      },
      "execution_count": null,
      "outputs": []
    },
    {
      "cell_type": "code",
      "source": [
        "X_train, X_test = train_test_split(minat_encoded, test_size=0.2, random_state=42)"
      ],
      "metadata": {
        "id": "iq30oUGgprdl"
      },
      "execution_count": null,
      "outputs": []
    },
    {
      "cell_type": "code",
      "source": [
        "model = tf.keras.Sequential([\n",
        "    tf.keras.layers.Input(shape=(X_train.shape[1],)),\n",
        "    tf.keras.layers.Dense(128, activation='relu'),\n",
        "    tf.keras.layers.Dropout(0.2),\n",
        "    tf.keras.layers.Dense(64, activation='relu'),\n",
        "    tf.keras.layers.Dropout(0.2),\n",
        "    tf.keras.layers.Dense(32, activation='relu'),\n",
        "    tf.keras.layers.Dense(X_train.shape[1], activation='sigmoid')  # Output layer\n",
        "])\n",
        "\n",
        "model.compile(optimizer='adam', loss='binary_crossentropy', metrics=['accuracy'])"
      ],
      "metadata": {
        "id": "hFG4y8Xkpxph"
      },
      "execution_count": null,
      "outputs": []
    },
    {
      "cell_type": "code",
      "source": [
        "# Train the model\n",
        "model.fit(X_train, X_train, epochs=50, batch_size=32, validation_split=0.1)"
      ],
      "metadata": {
        "colab": {
          "base_uri": "https://localhost:8080/"
        },
        "id": "FqoUVRjasVuk",
        "outputId": "0fbca682-457d-447a-ef82-dd6d07e4df30"
      },
      "execution_count": null,
      "outputs": [
        {
          "output_type": "stream",
          "name": "stdout",
          "text": [
            "Epoch 1/50\n",
            "\u001b[1m5/5\u001b[0m \u001b[32m━━━━━━━━━━━━━━━━━━━━\u001b[0m\u001b[37m\u001b[0m \u001b[1m7s\u001b[0m 167ms/step - accuracy: 0.0109 - loss: 0.6960 - val_accuracy: 0.1111 - val_loss: 0.6731\n",
            "Epoch 2/50\n",
            "\u001b[1m5/5\u001b[0m \u001b[32m━━━━━━━━━━━━━━━━━━━━\u001b[0m\u001b[37m\u001b[0m \u001b[1m0s\u001b[0m 29ms/step - accuracy: 0.1208 - loss: 0.6661 - val_accuracy: 0.2222 - val_loss: 0.6420\n",
            "Epoch 3/50\n",
            "\u001b[1m5/5\u001b[0m \u001b[32m━━━━━━━━━━━━━━━━━━━━\u001b[0m\u001b[37m\u001b[0m \u001b[1m0s\u001b[0m 26ms/step - accuracy: 0.1895 - loss: 0.6353 - val_accuracy: 0.2222 - val_loss: 0.6043\n",
            "Epoch 4/50\n",
            "\u001b[1m5/5\u001b[0m \u001b[32m━━━━━━━━━━━━━━━━━━━━\u001b[0m\u001b[37m\u001b[0m \u001b[1m0s\u001b[0m 34ms/step - accuracy: 0.1999 - loss: 0.5917 - val_accuracy: 0.2778 - val_loss: 0.5599\n",
            "Epoch 5/50\n",
            "\u001b[1m5/5\u001b[0m \u001b[32m━━━━━━━━━━━━━━━━━━━━\u001b[0m\u001b[37m\u001b[0m \u001b[1m0s\u001b[0m 29ms/step - accuracy: 0.3937 - loss: 0.5410 - val_accuracy: 0.2222 - val_loss: 0.5112\n",
            "Epoch 6/50\n",
            "\u001b[1m5/5\u001b[0m \u001b[32m━━━━━━━━━━━━━━━━━━━━\u001b[0m\u001b[37m\u001b[0m \u001b[1m0s\u001b[0m 30ms/step - accuracy: 0.3342 - loss: 0.4893 - val_accuracy: 0.2222 - val_loss: 0.4622\n",
            "Epoch 7/50\n",
            "\u001b[1m5/5\u001b[0m \u001b[32m━━━━━━━━━━━━━━━━━━━━\u001b[0m\u001b[37m\u001b[0m \u001b[1m0s\u001b[0m 20ms/step - accuracy: 0.3638 - loss: 0.4466 - val_accuracy: 0.2222 - val_loss: 0.4177\n",
            "Epoch 8/50\n",
            "\u001b[1m5/5\u001b[0m \u001b[32m━━━━━━━━━━━━━━━━━━━━\u001b[0m\u001b[37m\u001b[0m \u001b[1m0s\u001b[0m 21ms/step - accuracy: 0.3633 - loss: 0.3976 - val_accuracy: 0.2222 - val_loss: 0.3802\n",
            "Epoch 9/50\n",
            "\u001b[1m5/5\u001b[0m \u001b[32m━━━━━━━━━━━━━━━━━━━━\u001b[0m\u001b[37m\u001b[0m \u001b[1m0s\u001b[0m 16ms/step - accuracy: 0.3837 - loss: 0.3560 - val_accuracy: 0.2222 - val_loss: 0.3501\n",
            "Epoch 10/50\n",
            "\u001b[1m5/5\u001b[0m \u001b[32m━━━━━━━━━━━━━━━━━━━━\u001b[0m\u001b[37m\u001b[0m \u001b[1m0s\u001b[0m 22ms/step - accuracy: 0.3524 - loss: 0.3235 - val_accuracy: 0.2222 - val_loss: 0.3237\n",
            "Epoch 11/50\n",
            "\u001b[1m5/5\u001b[0m \u001b[32m━━━━━━━━━━━━━━━━━━━━\u001b[0m\u001b[37m\u001b[0m \u001b[1m0s\u001b[0m 48ms/step - accuracy: 0.3599 - loss: 0.2947 - val_accuracy: 0.2222 - val_loss: 0.2993\n",
            "Epoch 12/50\n",
            "\u001b[1m5/5\u001b[0m \u001b[32m━━━━━━━━━━━━━━━━━━━━\u001b[0m\u001b[37m\u001b[0m \u001b[1m0s\u001b[0m 43ms/step - accuracy: 0.4511 - loss: 0.2710 - val_accuracy: 0.3333 - val_loss: 0.2742\n",
            "Epoch 13/50\n",
            "\u001b[1m5/5\u001b[0m \u001b[32m━━━━━━━━━━━━━━━━━━━━\u001b[0m\u001b[37m\u001b[0m \u001b[1m0s\u001b[0m 38ms/step - accuracy: 0.4841 - loss: 0.2642 - val_accuracy: 0.3333 - val_loss: 0.2492\n",
            "Epoch 14/50\n",
            "\u001b[1m5/5\u001b[0m \u001b[32m━━━━━━━━━━━━━━━━━━━━\u001b[0m\u001b[37m\u001b[0m \u001b[1m0s\u001b[0m 40ms/step - accuracy: 0.5006 - loss: 0.2364 - val_accuracy: 0.3333 - val_loss: 0.2258\n",
            "Epoch 15/50\n",
            "\u001b[1m5/5\u001b[0m \u001b[32m━━━━━━━━━━━━━━━━━━━━\u001b[0m\u001b[37m\u001b[0m \u001b[1m0s\u001b[0m 40ms/step - accuracy: 0.5128 - loss: 0.2233 - val_accuracy: 0.3333 - val_loss: 0.2035\n",
            "Epoch 16/50\n",
            "\u001b[1m5/5\u001b[0m \u001b[32m━━━━━━━━━━━━━━━━━━━━\u001b[0m\u001b[37m\u001b[0m \u001b[1m0s\u001b[0m 28ms/step - accuracy: 0.5123 - loss: 0.2100 - val_accuracy: 0.3333 - val_loss: 0.1832\n",
            "Epoch 17/50\n",
            "\u001b[1m5/5\u001b[0m \u001b[32m━━━━━━━━━━━━━━━━━━━━\u001b[0m\u001b[37m\u001b[0m \u001b[1m0s\u001b[0m 36ms/step - accuracy: 0.4711 - loss: 0.1967 - val_accuracy: 0.3333 - val_loss: 0.1622\n",
            "Epoch 18/50\n",
            "\u001b[1m5/5\u001b[0m \u001b[32m━━━━━━━━━━━━━━━━━━━━\u001b[0m\u001b[37m\u001b[0m \u001b[1m0s\u001b[0m 27ms/step - accuracy: 0.5358 - loss: 0.1720 - val_accuracy: 0.3333 - val_loss: 0.1444\n",
            "Epoch 19/50\n",
            "\u001b[1m5/5\u001b[0m \u001b[32m━━━━━━━━━━━━━━━━━━━━\u001b[0m\u001b[37m\u001b[0m \u001b[1m0s\u001b[0m 42ms/step - accuracy: 0.5354 - loss: 0.1585 - val_accuracy: 0.4444 - val_loss: 0.1291\n",
            "Epoch 20/50\n",
            "\u001b[1m5/5\u001b[0m \u001b[32m━━━━━━━━━━━━━━━━━━━━\u001b[0m\u001b[37m\u001b[0m \u001b[1m0s\u001b[0m 45ms/step - accuracy: 0.4932 - loss: 0.1579 - val_accuracy: 0.4444 - val_loss: 0.1158\n",
            "Epoch 21/50\n",
            "\u001b[1m5/5\u001b[0m \u001b[32m━━━━━━━━━━━━━━━━━━━━\u001b[0m\u001b[37m\u001b[0m \u001b[1m1s\u001b[0m 33ms/step - accuracy: 0.5427 - loss: 0.1489 - val_accuracy: 0.4444 - val_loss: 0.1042\n",
            "Epoch 22/50\n",
            "\u001b[1m5/5\u001b[0m \u001b[32m━━━━━━━━━━━━━━━━━━━━\u001b[0m\u001b[37m\u001b[0m \u001b[1m0s\u001b[0m 22ms/step - accuracy: 0.4733 - loss: 0.1409 - val_accuracy: 0.4444 - val_loss: 0.0935\n",
            "Epoch 23/50\n",
            "\u001b[1m5/5\u001b[0m \u001b[32m━━━━━━━━━━━━━━━━━━━━\u001b[0m\u001b[37m\u001b[0m \u001b[1m0s\u001b[0m 31ms/step - accuracy: 0.4429 - loss: 0.1363 - val_accuracy: 0.4444 - val_loss: 0.0835\n",
            "Epoch 24/50\n",
            "\u001b[1m5/5\u001b[0m \u001b[32m━━━━━━━━━━━━━━━━━━━━\u001b[0m\u001b[37m\u001b[0m \u001b[1m0s\u001b[0m 53ms/step - accuracy: 0.5024 - loss: 0.1091 - val_accuracy: 0.4444 - val_loss: 0.0761\n",
            "Epoch 25/50\n",
            "\u001b[1m5/5\u001b[0m \u001b[32m━━━━━━━━━━━━━━━━━━━━\u001b[0m\u001b[37m\u001b[0m \u001b[1m0s\u001b[0m 38ms/step - accuracy: 0.5106 - loss: 0.1056 - val_accuracy: 0.5000 - val_loss: 0.0692\n",
            "Epoch 26/50\n",
            "\u001b[1m5/5\u001b[0m \u001b[32m━━━━━━━━━━━━━━━━━━━━\u001b[0m\u001b[37m\u001b[0m \u001b[1m0s\u001b[0m 24ms/step - accuracy: 0.5484 - loss: 0.1034 - val_accuracy: 0.5000 - val_loss: 0.0637\n",
            "Epoch 27/50\n",
            "\u001b[1m5/5\u001b[0m \u001b[32m━━━━━━━━━━━━━━━━━━━━\u001b[0m\u001b[37m\u001b[0m \u001b[1m0s\u001b[0m 43ms/step - accuracy: 0.4955 - loss: 0.0939 - val_accuracy: 0.4444 - val_loss: 0.0592\n",
            "Epoch 28/50\n",
            "\u001b[1m5/5\u001b[0m \u001b[32m━━━━━━━━━━━━━━━━━━━━\u001b[0m\u001b[37m\u001b[0m \u001b[1m1s\u001b[0m 32ms/step - accuracy: 0.5050 - loss: 0.1065 - val_accuracy: 0.4444 - val_loss: 0.0550\n",
            "Epoch 29/50\n",
            "\u001b[1m5/5\u001b[0m \u001b[32m━━━━━━━━━━━━━━━━━━━━\u001b[0m\u001b[37m\u001b[0m \u001b[1m0s\u001b[0m 20ms/step - accuracy: 0.5311 - loss: 0.0938 - val_accuracy: 0.5000 - val_loss: 0.0505\n",
            "Epoch 30/50\n",
            "\u001b[1m5/5\u001b[0m \u001b[32m━━━━━━━━━━━━━━━━━━━━\u001b[0m\u001b[37m\u001b[0m \u001b[1m0s\u001b[0m 28ms/step - accuracy: 0.4689 - loss: 0.0935 - val_accuracy: 0.5000 - val_loss: 0.0468\n",
            "Epoch 31/50\n",
            "\u001b[1m5/5\u001b[0m \u001b[32m━━━━━━━━━━━━━━━━━━━━\u001b[0m\u001b[37m\u001b[0m \u001b[1m0s\u001b[0m 33ms/step - accuracy: 0.5358 - loss: 0.0791 - val_accuracy: 0.5000 - val_loss: 0.0432\n",
            "Epoch 32/50\n",
            "\u001b[1m5/5\u001b[0m \u001b[32m━━━━━━━━━━━━━━━━━━━━\u001b[0m\u001b[37m\u001b[0m \u001b[1m0s\u001b[0m 20ms/step - accuracy: 0.5115 - loss: 0.0802 - val_accuracy: 0.5000 - val_loss: 0.0398\n",
            "Epoch 33/50\n",
            "\u001b[1m5/5\u001b[0m \u001b[32m━━━━━━━━━━━━━━━━━━━━\u001b[0m\u001b[37m\u001b[0m \u001b[1m0s\u001b[0m 25ms/step - accuracy: 0.5749 - loss: 0.0631 - val_accuracy: 0.5000 - val_loss: 0.0371\n",
            "Epoch 34/50\n",
            "\u001b[1m5/5\u001b[0m \u001b[32m━━━━━━━━━━━━━━━━━━━━\u001b[0m\u001b[37m\u001b[0m \u001b[1m0s\u001b[0m 32ms/step - accuracy: 0.5381 - loss: 0.0712 - val_accuracy: 0.5000 - val_loss: 0.0341\n",
            "Epoch 35/50\n",
            "\u001b[1m5/5\u001b[0m \u001b[32m━━━━━━━━━━━━━━━━━━━━\u001b[0m\u001b[37m\u001b[0m \u001b[1m0s\u001b[0m 28ms/step - accuracy: 0.5072 - loss: 0.0682 - val_accuracy: 0.5000 - val_loss: 0.0316\n",
            "Epoch 36/50\n",
            "\u001b[1m5/5\u001b[0m \u001b[32m━━━━━━━━━━━━━━━━━━━━\u001b[0m\u001b[37m\u001b[0m \u001b[1m0s\u001b[0m 28ms/step - accuracy: 0.5397 - loss: 0.0636 - val_accuracy: 0.5000 - val_loss: 0.0286\n",
            "Epoch 37/50\n",
            "\u001b[1m5/5\u001b[0m \u001b[32m━━━━━━━━━━━━━━━━━━━━\u001b[0m\u001b[37m\u001b[0m \u001b[1m0s\u001b[0m 28ms/step - accuracy: 0.5415 - loss: 0.0591 - val_accuracy: 0.5000 - val_loss: 0.0262\n",
            "Epoch 38/50\n",
            "\u001b[1m5/5\u001b[0m \u001b[32m━━━━━━━━━━━━━━━━━━━━\u001b[0m\u001b[37m\u001b[0m \u001b[1m0s\u001b[0m 23ms/step - accuracy: 0.5754 - loss: 0.0593 - val_accuracy: 0.5000 - val_loss: 0.0242\n",
            "Epoch 39/50\n",
            "\u001b[1m5/5\u001b[0m \u001b[32m━━━━━━━━━━━━━━━━━━━━\u001b[0m\u001b[37m\u001b[0m \u001b[1m0s\u001b[0m 27ms/step - accuracy: 0.5940 - loss: 0.0561 - val_accuracy: 0.5000 - val_loss: 0.0224\n",
            "Epoch 40/50\n",
            "\u001b[1m5/5\u001b[0m \u001b[32m━━━━━━━━━━━━━━━━━━━━\u001b[0m\u001b[37m\u001b[0m \u001b[1m0s\u001b[0m 41ms/step - accuracy: 0.5167 - loss: 0.0510 - val_accuracy: 0.5000 - val_loss: 0.0209\n",
            "Epoch 41/50\n",
            "\u001b[1m5/5\u001b[0m \u001b[32m━━━━━━━━━━━━━━━━━━━━\u001b[0m\u001b[37m\u001b[0m \u001b[1m0s\u001b[0m 46ms/step - accuracy: 0.5836 - loss: 0.0509 - val_accuracy: 0.5000 - val_loss: 0.0195\n",
            "Epoch 42/50\n",
            "\u001b[1m5/5\u001b[0m \u001b[32m━━━━━━━━━━━━━━━━━━━━\u001b[0m\u001b[37m\u001b[0m \u001b[1m0s\u001b[0m 22ms/step - accuracy: 0.5124 - loss: 0.0508 - val_accuracy: 0.5000 - val_loss: 0.0181\n",
            "Epoch 43/50\n",
            "\u001b[1m5/5\u001b[0m \u001b[32m━━━━━━━━━━━━━━━━━━━━\u001b[0m\u001b[37m\u001b[0m \u001b[1m0s\u001b[0m 28ms/step - accuracy: 0.5406 - loss: 0.0467 - val_accuracy: 0.5000 - val_loss: 0.0167\n",
            "Epoch 44/50\n",
            "\u001b[1m5/5\u001b[0m \u001b[32m━━━━━━━━━━━━━━━━━━━━\u001b[0m\u001b[37m\u001b[0m \u001b[1m0s\u001b[0m 38ms/step - accuracy: 0.5076 - loss: 0.0412 - val_accuracy: 0.5000 - val_loss: 0.0150\n",
            "Epoch 45/50\n",
            "\u001b[1m5/5\u001b[0m \u001b[32m━━━━━━━━━━━━━━━━━━━━\u001b[0m\u001b[37m\u001b[0m \u001b[1m0s\u001b[0m 40ms/step - accuracy: 0.5676 - loss: 0.0487 - val_accuracy: 0.5000 - val_loss: 0.0136\n",
            "Epoch 46/50\n",
            "\u001b[1m5/5\u001b[0m \u001b[32m━━━━━━━━━━━━━━━━━━━━\u001b[0m\u001b[37m\u001b[0m \u001b[1m0s\u001b[0m 30ms/step - accuracy: 0.5319 - loss: 0.0439 - val_accuracy: 0.5000 - val_loss: 0.0128\n",
            "Epoch 47/50\n",
            "\u001b[1m5/5\u001b[0m \u001b[32m━━━━━━━━━━━━━━━━━━━━\u001b[0m\u001b[37m\u001b[0m \u001b[1m0s\u001b[0m 16ms/step - accuracy: 0.5445 - loss: 0.0404 - val_accuracy: 0.5000 - val_loss: 0.0123\n",
            "Epoch 48/50\n",
            "\u001b[1m5/5\u001b[0m \u001b[32m━━━━━━━━━━━━━━━━━━━━\u001b[0m\u001b[37m\u001b[0m \u001b[1m0s\u001b[0m 14ms/step - accuracy: 0.5207 - loss: 0.0373 - val_accuracy: 0.5000 - val_loss: 0.0113\n",
            "Epoch 49/50\n",
            "\u001b[1m5/5\u001b[0m \u001b[32m━━━━━━━━━━━━━━━━━━━━\u001b[0m\u001b[37m\u001b[0m \u001b[1m0s\u001b[0m 18ms/step - accuracy: 0.5589 - loss: 0.0324 - val_accuracy: 0.5000 - val_loss: 0.0103\n",
            "Epoch 50/50\n",
            "\u001b[1m5/5\u001b[0m \u001b[32m━━━━━━━━━━━━━━━━━━━━\u001b[0m\u001b[37m\u001b[0m \u001b[1m0s\u001b[0m 20ms/step - accuracy: 0.4772 - loss: 0.0399 - val_accuracy: 0.5000 - val_loss: 0.0090\n"
          ]
        },
        {
          "output_type": "execute_result",
          "data": {
            "text/plain": [
              "<keras.src.callbacks.history.History at 0x7ab269559990>"
            ]
          },
          "metadata": {},
          "execution_count": 9
        }
      ]
    },
    {
      "cell_type": "code",
      "source": [
        "def rekomendasi_jobspark(minat_user, dataset, minat_encoder, model, top_n=5):\n",
        "    user_minat_vector = minat_encoder.transform([minat_user])\n",
        "\n",
        "    user_prediction = model.predict(user_minat_vector)\n",
        "\n",
        "    nilai_similaritas = cosine_similarity(user_prediction, minat_encoded)\n",
        "\n",
        "    similiaritas_indeks = nilai_similaritas[0].argsort()[-top_n-1:-1][::-1]\n",
        "\n",
        "    print(\"Top Recommendations:\")\n",
        "    for i in similiaritas_indeks:\n",
        "        rekomendasi_jobspark = dataset.iloc[i]\n",
        "        print(f\"Nama Pekerjaan: {rekomendasi_jobspark['Nama Pekerjaan']}\")\n",
        "        print(f\"Perusahaan: {rekomendasi_jobspark['Perusahaan']}\")\n",
        "        print(f\"Lokasi: {rekomendasi_jobspark['Lokasi']}\")\n",
        "        print(f\"Kualifikasi: {rekomendasi_jobspark['Kualifikasi']}\")\n",
        "        print(f\"Minimal Pengalaman: {rekomendasi_jobspark['Minimal Pengalaman']}\")\n",
        "        print(f\"Kategori Minat: {rekomendasi_jobspark['Kategori Minat']}\")\n",
        "        print(f\"Kemampuan Dibutuhkan: {rekomendasi_jobspark['Kemampuan Dibutuhkan']}\")\n",
        "        print(f\"Kondisi Kesehatan: {rekomendasi_jobspark['Kondisi Kesehatan']}\")\n",
        "        print(\"-\" * 40)"
      ],
      "metadata": {
        "id": "Q1kFU7nnsZUd"
      },
      "execution_count": null,
      "outputs": []
    },
    {
      "cell_type": "code",
      "source": [
        "minat_user = ['Musik']\n",
        "rekomendasi_jobspark(minat_user, dataset, minat_encoder, model)"
      ],
      "metadata": {
        "colab": {
          "base_uri": "https://localhost:8080/"
        },
        "id": "W7TIjM5lsa21",
        "outputId": "130eee2b-d301-46c3-9fef-b574aebe7571"
      },
      "execution_count": null,
      "outputs": [
        {
          "output_type": "stream",
          "name": "stdout",
          "text": [
            "\u001b[1m1/1\u001b[0m \u001b[32m━━━━━━━━━━━━━━━━━━━━\u001b[0m\u001b[37m\u001b[0m \u001b[1m0s\u001b[0m 74ms/step\n",
            "Top Recommendations:\n",
            "Nama Pekerjaan: Asisten Pelatih Musik\n",
            "Perusahaan: Sanggar Musik Nusantara\n",
            "Lokasi: Surabaya\n",
            "Kualifikasi: Lulusan SMA/SMK\n",
            "Minimal Pengalaman: 0-1 tahun\n",
            "Kategori Minat: ['Musik', 'Seni']\n",
            "Kemampuan Dibutuhkan: Kesabaran, Kreativitas, Mendengarkan instruksi\n",
            "Kondisi Kesehatan: Membutuhkan lingkungan kerja tenang\n",
            "----------------------------------------\n",
            "Nama Pekerjaan: Teknisi Alat Musik\n",
            "Perusahaan: Toko Musik Harmoni\n",
            "Lokasi: Medan\n",
            "Kualifikasi: Lulusan SMA/SMK\n",
            "Minimal Pengalaman: 0-2 tahun\n",
            "Kategori Minat: ['Musik', 'Seni']\n",
            "Kemampuan Dibutuhkan: Pemecahan masalah sederhana, Kreativitas, Ketelitian\n",
            "Kondisi Kesehatan: Membutuhkan lingkungan kerja tenang\n",
            "----------------------------------------\n",
            "Nama Pekerjaan: Teknisi Headphone\n",
            "Perusahaan: Toko Audio Digital\n",
            "Lokasi: Bandung\n",
            "Kualifikasi: Lulusan SMA/SMK\n",
            "Minimal Pengalaman: 1-2 tahun\n",
            "Kategori Minat: ['Teknologi dasar', 'Musik']\n",
            "Kemampuan Dibutuhkan: Pemecahan masalah sederhana, Kreativitas, Ketelitian\n",
            "Kondisi Kesehatan: Membutuhkan lingkungan kerja tenang\n",
            "----------------------------------------\n",
            "Nama Pekerjaan: Teknisi Peralatan Musik\n",
            "Perusahaan: Toko Musik Tradisional\n",
            "Lokasi: Jakarta\n",
            "Kualifikasi: Lulusan SMA/SMK\n",
            "Minimal Pengalaman: 0-1 tahun\n",
            "Kategori Minat: ['Musik', 'Teknologi dasar']\n",
            "Kemampuan Dibutuhkan: Pemecahan masalah sederhana, Kreativitas, Ketelitian\n",
            "Kondisi Kesehatan: Membutuhkan lingkungan kerja tenang\n",
            "----------------------------------------\n",
            "Nama Pekerjaan: Teknisi Sound System\n",
            "Perusahaan: PT Audio Mandiri\n",
            "Lokasi: Bandung\n",
            "Kualifikasi: Lulusan SMA/SMK\n",
            "Minimal Pengalaman: 1-2 tahun\n",
            "Kategori Minat: ['Teknologi dasar', 'Musik']\n",
            "Kemampuan Dibutuhkan: Pemecahan masalah sederhana, Ketelitian, Kreativitas\n",
            "Kondisi Kesehatan: Membutuhkan lingkungan kerja tenang\n",
            "----------------------------------------\n"
          ]
        }
      ]
    }
  ]
}